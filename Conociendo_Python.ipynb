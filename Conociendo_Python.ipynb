{
  "nbformat": 4,
  "nbformat_minor": 0,
  "metadata": {
    "colab": {
      "provenance": [],
      "toc_visible": true,
      "collapsed_sections": [
        "nrNeImR-_5Co",
        "uhXMZIzWGMjW",
        "IF-RaEO5Nh1F"
      ],
      "authorship_tag": "ABX9TyNwpQttItRpaaRP8YeunKqE",
      "include_colab_link": true
    },
    "kernelspec": {
      "name": "python3",
      "display_name": "Python 3"
    },
    "language_info": {
      "name": "python"
    }
  },
  "cells": [
    {
      "cell_type": "markdown",
      "metadata": {
        "id": "view-in-github",
        "colab_type": "text"
      },
      "source": [
        "<a href=\"https://colab.research.google.com/github/JeraldinneReina/Aplicando-Python/blob/main/Conociendo_Python.ipynb\" target=\"_parent\"><img src=\"https://colab.research.google.com/assets/colab-badge.svg\" alt=\"Open In Colab\"/></a>"
      ]
    },
    {
      "cell_type": "markdown",
      "source": [
        "#OBJECTOS O VARIABLES"
      ],
      "metadata": {
        "id": "ZPF08huOt4Yq"
      }
    },
    {
      "cell_type": "code",
      "source": [
        "#Strings:cadena de caracteres - usamos comillas simples o doables para indicar que es un texto\n",
        "print(\"Hello World\")"
      ],
      "metadata": {
        "colab": {
          "base_uri": "https://localhost:8080/"
        },
        "id": "437SePEvt-H5",
        "outputId": "2980947d-e28f-4142-ab22-16a9d55485fa"
      },
      "execution_count": null,
      "outputs": [
        {
          "output_type": "stream",
          "name": "stdout",
          "text": [
            "Hello World\n"
          ]
        }
      ]
    },
    {
      "cell_type": "code",
      "source": [
        "#Númericos Entero -conocidos como Int (Interger)\n",
        "print(10)"
      ],
      "metadata": {
        "colab": {
          "base_uri": "https://localhost:8080/"
        },
        "id": "_R8OWYtcuRej",
        "outputId": "31c098d2-c2db-4b8c-bc95-08e2f88a193c"
      },
      "execution_count": null,
      "outputs": [
        {
          "output_type": "stream",
          "name": "stdout",
          "text": [
            "10\n"
          ]
        }
      ]
    },
    {
      "cell_type": "code",
      "source": [
        "# Números con decimales -Importante utilizar el PUNTO, Python toma la coma como\n",
        "# separador de objectos\n",
        "#Son conocimos como Floats\n",
        "print(10.5)"
      ],
      "metadata": {
        "colab": {
          "base_uri": "https://localhost:8080/"
        },
        "id": "FhDzYoOpuhoU",
        "outputId": "dc10c0ab-181d-4da8-e751-0c96817cd36c"
      },
      "execution_count": null,
      "outputs": [
        {
          "output_type": "stream",
          "name": "stdout",
          "text": [
            "10.5\n"
          ]
        }
      ]
    },
    {
      "cell_type": "code",
      "source": [
        "print(10,15,19)"
      ],
      "metadata": {
        "colab": {
          "base_uri": "https://localhost:8080/"
        },
        "id": "R8_iuOY9uwgO",
        "outputId": "d23a34f2-429e-4a4e-9456-bf52bd3e3ecc"
      },
      "execution_count": null,
      "outputs": [
        {
          "output_type": "stream",
          "name": "stdout",
          "text": [
            "10 15 19\n"
          ]
        }
      ]
    },
    {
      "cell_type": "code",
      "source": [
        "#Asignación  nombre a las variables - me toma la minúscula y mayúscula como\n",
        "#diferentes\n",
        "\n",
        "a = 10\n",
        "A = 10.5\n",
        "print(a)\n",
        "print(A)"
      ],
      "metadata": {
        "colab": {
          "base_uri": "https://localhost:8080/"
        },
        "id": "qQyLqc9WxDlD",
        "outputId": "b67d1ca6-c214-4080-c28a-881dfa181d9f"
      },
      "execution_count": null,
      "outputs": [
        {
          "output_type": "stream",
          "name": "stdout",
          "text": [
            "10\n",
            "10.5\n"
          ]
        }
      ]
    },
    {
      "cell_type": "markdown",
      "source": [
        "## Tipo de objectos\n",
        "\n",
        "2 OBJECTOS: STRINGS Y NÚMEROS. En números tenemos dos enteros Int y decimales Float."
      ],
      "metadata": {
        "id": "nrNeImR-_5Co"
      }
    },
    {
      "cell_type": "code",
      "source": [
        "#conocer tipos de objectos\n",
        "\n",
        "type (a)"
      ],
      "metadata": {
        "colab": {
          "base_uri": "https://localhost:8080/"
        },
        "id": "Fzqb9mbe8OeG",
        "outputId": "eb67d9ac-f5a9-4072-bbf8-99d60ac620f6"
      },
      "execution_count": null,
      "outputs": [
        {
          "output_type": "execute_result",
          "data": {
            "text/plain": [
              "int"
            ]
          },
          "metadata": {},
          "execution_count": 14
        }
      ]
    },
    {
      "cell_type": "code",
      "source": [
        "type (A)"
      ],
      "metadata": {
        "colab": {
          "base_uri": "https://localhost:8080/"
        },
        "id": "A4IJ7PKw_0iR",
        "outputId": "12408208-429c-4f98-fa22-f83cb45469fc"
      },
      "execution_count": null,
      "outputs": [
        {
          "output_type": "execute_result",
          "data": {
            "text/plain": [
              "float"
            ]
          },
          "metadata": {},
          "execution_count": 15
        }
      ]
    },
    {
      "cell_type": "code",
      "source": [
        "B = \"Hola Mundo\"\n",
        "type (B)"
      ],
      "metadata": {
        "colab": {
          "base_uri": "https://localhost:8080/"
        },
        "id": "DKBrZJ10Arwg",
        "outputId": "1c3e9948-c0b7-445f-997d-2af95f1dc30a"
      },
      "execution_count": null,
      "outputs": [
        {
          "output_type": "execute_result",
          "data": {
            "text/plain": [
              "str"
            ]
          },
          "metadata": {},
          "execution_count": 18
        }
      ]
    },
    {
      "cell_type": "markdown",
      "source": [
        "###Operaciones con Strings"
      ],
      "metadata": {
        "id": "uhXMZIzWGMjW"
      }
    },
    {
      "cell_type": "code",
      "source": [
        "oracion = (\"Mi Nombre es\")\n",
        "Name = (\"Jeraldinne\")\n",
        "print(oracion,Name)"
      ],
      "metadata": {
        "colab": {
          "base_uri": "https://localhost:8080/"
        },
        "id": "pqqatz_lGP1I",
        "outputId": "824a8ab8-42a3-4645-ac5f-41c177a32481"
      },
      "execution_count": null,
      "outputs": [
        {
          "output_type": "stream",
          "name": "stdout",
          "text": [
            "Mi Nombre es Jeraldinne\n"
          ]
        }
      ]
    },
    {
      "cell_type": "code",
      "source": [
        "print (oracion + Name) #No me se para cada string al usar el \" + \"  debo agregarle el espacio"
      ],
      "metadata": {
        "colab": {
          "base_uri": "https://localhost:8080/"
        },
        "id": "iThBP9CcGonA",
        "outputId": "a767aa62-a90b-45d3-d108-415b77db0a9b"
      },
      "execution_count": null,
      "outputs": [
        {
          "output_type": "stream",
          "name": "stdout",
          "text": [
            "Mi Nombre esJeraldinne\n"
          ]
        }
      ]
    },
    {
      "cell_type": "code",
      "source": [
        "print (oracion + \" \" + Name) #Agregamos el espacio con comillas"
      ],
      "metadata": {
        "colab": {
          "base_uri": "https://localhost:8080/"
        },
        "id": "L7Fv2iCyG4V4",
        "outputId": "bba4db34-cf08-4a50-f550-aaa757014a2c"
      },
      "execution_count": null,
      "outputs": [
        {
          "output_type": "stream",
          "name": "stdout",
          "text": [
            "Mi Nombre es Jeraldinne\n"
          ]
        }
      ]
    },
    {
      "cell_type": "code",
      "source": [
        "dir() #para conocer propiedades"
      ],
      "metadata": {
        "colab": {
          "base_uri": "https://localhost:8080/"
        },
        "collapsed": true,
        "id": "R3JntePkF53k",
        "outputId": "203fac0f-565e-4a62-e66d-b5532bb0eeca"
      },
      "execution_count": null,
      "outputs": [
        {
          "output_type": "execute_result",
          "data": {
            "text/plain": [
              "['In',\n",
              " 'Name',\n",
              " 'Out',\n",
              " '_',\n",
              " '__',\n",
              " '___',\n",
              " '__builtin__',\n",
              " '__builtins__',\n",
              " '__doc__',\n",
              " '__loader__',\n",
              " '__name__',\n",
              " '__package__',\n",
              " '__spec__',\n",
              " '_dh',\n",
              " '_i',\n",
              " '_i1',\n",
              " '_i2',\n",
              " '_i3',\n",
              " '_i4',\n",
              " '_ih',\n",
              " '_ii',\n",
              " '_iii',\n",
              " '_oh',\n",
              " 'exit',\n",
              " 'get_ipython',\n",
              " 'oracion',\n",
              " 'quit']"
            ]
          },
          "metadata": {},
          "execution_count": 4
        }
      ]
    },
    {
      "cell_type": "code",
      "source": [
        "oracion *5"
      ],
      "metadata": {
        "colab": {
          "base_uri": "https://localhost:8080/"
        },
        "id": "EbYl78QcRtbL",
        "outputId": "06f7a86b-23e2-4270-f2c8-5f65b8179fa4"
      },
      "execution_count": null,
      "outputs": [
        {
          "output_type": "execute_result",
          "data": {
            "text/plain": [
              "'Mi Nombre esMi Nombre esMi Nombre esMi Nombre esMi Nombre es'"
            ],
            "application/vnd.google.colaboratory.intrinsic+json": {
              "type": "string"
            }
          },
          "metadata": {},
          "execution_count": 5
        }
      ]
    },
    {
      "cell_type": "markdown",
      "source": [
        "### Manipulating strings - string methods"
      ],
      "metadata": {
        "id": "IF-RaEO5Nh1F"
      }
    },
    {
      "cell_type": "code",
      "source": [
        "oracion2 = \"este es un string\""
      ],
      "metadata": {
        "id": "gtPXAwBvFhcm"
      },
      "execution_count": null,
      "outputs": []
    },
    {
      "cell_type": "code",
      "source": [
        "# Case capitalization\n",
        "# It return the string with first letter capitalized and the rest being lower cases.\n",
        "\n",
        "oracion.capitalize()"
      ],
      "metadata": {
        "colab": {
          "base_uri": "https://localhost:8080/",
          "height": 35
        },
        "id": "2WpiLRxPPdjW",
        "outputId": "02358aa9-188b-4b5c-960f-ea9236eeaf88"
      },
      "execution_count": null,
      "outputs": [
        {
          "output_type": "execute_result",
          "data": {
            "text/plain": [
              "'Este es un string'"
            ],
            "application/vnd.google.colaboratory.intrinsic+json": {
              "type": "string"
            }
          },
          "metadata": {},
          "execution_count": 40
        }
      ]
    },
    {
      "cell_type": "code",
      "source": [
        "# Given a string, convert it into title (each word is capitalized)\n",
        "oracion2.title()"
      ],
      "metadata": {
        "colab": {
          "base_uri": "https://localhost:8080/",
          "height": 35
        },
        "id": "z_0sVvvaPwye",
        "outputId": "628f8307-ae51-4c89-cf15-cc745345f9d8"
      },
      "execution_count": null,
      "outputs": [
        {
          "output_type": "execute_result",
          "data": {
            "text/plain": [
              "'Este Es Un String'"
            ],
            "application/vnd.google.colaboratory.intrinsic+json": {
              "type": "string"
            }
          },
          "metadata": {},
          "execution_count": 41
        }
      ]
    },
    {
      "cell_type": "code",
      "source": [
        "# Converting the string to upper case\n",
        "oracion2.upper()"
      ],
      "metadata": {
        "colab": {
          "base_uri": "https://localhost:8080/",
          "height": 35
        },
        "id": "RLq_Q-uhP8Ho",
        "outputId": "9a15f9b8-4847-443b-a499-4ab60e30e03c"
      },
      "execution_count": null,
      "outputs": [
        {
          "output_type": "execute_result",
          "data": {
            "text/plain": [
              "'ESTE ES UN STRING'"
            ],
            "application/vnd.google.colaboratory.intrinsic+json": {
              "type": "string"
            }
          },
          "metadata": {},
          "execution_count": 42
        }
      ]
    },
    {
      "cell_type": "code",
      "source": [
        "# Converting the string to lower case\n",
        "oracion2.lower()\n"
      ],
      "metadata": {
        "colab": {
          "base_uri": "https://localhost:8080/",
          "height": 35
        },
        "id": "qbBVjT9SQFXw",
        "outputId": "7be4ea31-c209-47c4-ac8c-eb5e0ede823e"
      },
      "execution_count": null,
      "outputs": [
        {
          "output_type": "execute_result",
          "data": {
            "text/plain": [
              "'este es un string'"
            ],
            "application/vnd.google.colaboratory.intrinsic+json": {
              "type": "string"
            }
          },
          "metadata": {},
          "execution_count": 43
        }
      ]
    },
    {
      "cell_type": "code",
      "source": [
        "# Splitting the string\n",
        "oracion2.split()"
      ],
      "metadata": {
        "colab": {
          "base_uri": "https://localhost:8080/"
        },
        "id": "mtnMrxFDQzz0",
        "outputId": "cb67d4f2-b0a0-4b48-c8fe-bf87e109b7c7"
      },
      "execution_count": null,
      "outputs": [
        {
          "output_type": "execute_result",
          "data": {
            "text/plain": [
              "['este', 'es', 'un', 'string']"
            ]
          },
          "metadata": {},
          "execution_count": 44
        }
      ]
    },
    {
      "cell_type": "markdown",
      "source": [
        "Lastly, we can use replace() method to replace some characters in string with another characters. Replace method takes two inputs: characters to be replaced, and new characters to be inserted in string,\n",
        "\n",
        "replace('characters to be replaced', 'new characters').\n",
        "\n",
        "Example, given the string \"Ayer leí dos noticias impactantes\", replace the world dos with cuatro."
      ],
      "metadata": {
        "id": "Oapxf5RWQ-5L"
      }
    },
    {
      "cell_type": "code",
      "source": [
        "new = \"Ayer leí dos noticias impactantes\"\n",
        "new.replace('dos', 'cuatro')"
      ],
      "metadata": {
        "colab": {
          "base_uri": "https://localhost:8080/",
          "height": 35
        },
        "id": "KqLgmMdgRQy8",
        "outputId": "277e753f-fb1f-4ab8-b6dd-dc5fe592afc5"
      },
      "execution_count": null,
      "outputs": [
        {
          "output_type": "execute_result",
          "data": {
            "text/plain": [
              "'Ayer leí cuatro noticias impactantes'"
            ],
            "application/vnd.google.colaboratory.intrinsic+json": {
              "type": "string"
            }
          },
          "metadata": {},
          "execution_count": 36
        }
      ]
    },
    {
      "cell_type": "code",
      "source": [
        "#Podemos remplazar los espacio, tambien\n",
        "\n",
        "new.replace(' ', '-')"
      ],
      "metadata": {
        "colab": {
          "base_uri": "https://localhost:8080/",
          "height": 35
        },
        "id": "82bmFfVLRiwj",
        "outputId": "e0e614ae-d5e2-414f-dcbd-ba57b596bf39"
      },
      "execution_count": null,
      "outputs": [
        {
          "output_type": "execute_result",
          "data": {
            "text/plain": [
              "'Ayer-leí-dos-noticias-impactantes'"
            ],
            "application/vnd.google.colaboratory.intrinsic+json": {
              "type": "string"
            }
          },
          "metadata": {},
          "execution_count": 37
        }
      ]
    },
    {
      "cell_type": "markdown",
      "source": [
        "# LIBRERIAS\n",
        "Primero Importamos Librerias como ** Pandas y Numpy** italicized text, las cuales,  contienen funciones, clases y modulos ya escritos para usar, estás ayudan a la manipulación y análisis de datos en tablas, y calculos matemáticos respectivamente."
      ],
      "metadata": {
        "id": "s0oh60_9rbiP"
      }
    },
    {
      "cell_type": "code",
      "execution_count": null,
      "metadata": {
        "id": "uIHOY9-khRKD"
      },
      "outputs": [],
      "source": [
        "# Librarias - importing numpy and pandas - Damos alias a nuestras librerias con\n",
        "# AS\n",
        "\n",
        "import numpy as np\n",
        "import pandas as pd"
      ]
    },
    {
      "cell_type": "markdown",
      "source": [
        "#DATA STRUCTURES / ESTRUCTURAS DE DATOS"
      ],
      "metadata": {
        "id": "qTIJytyQQchD"
      }
    },
    {
      "cell_type": "code",
      "source": [
        "#Dir() - me indica las propiedades, las operaciones y funciones que puedo aplicar con dicho objecto\n",
        "\n",
        "dir ()"
      ],
      "metadata": {
        "colab": {
          "base_uri": "https://localhost:8080/"
        },
        "collapsed": true,
        "id": "gAu39IqeSSM7",
        "outputId": "e54515a0-feba-44d8-c787-9f1dd046964f"
      },
      "execution_count": null,
      "outputs": [
        {
          "output_type": "execute_result",
          "data": {
            "text/plain": [
              "['In',\n",
              " 'Name',\n",
              " 'Out',\n",
              " '_',\n",
              " '_4',\n",
              " '_5',\n",
              " '__',\n",
              " '___',\n",
              " '__builtin__',\n",
              " '__builtins__',\n",
              " '__doc__',\n",
              " '__loader__',\n",
              " '__name__',\n",
              " '__package__',\n",
              " '__spec__',\n",
              " '_dh',\n",
              " '_i',\n",
              " '_i1',\n",
              " '_i10',\n",
              " '_i2',\n",
              " '_i3',\n",
              " '_i4',\n",
              " '_i5',\n",
              " '_i6',\n",
              " '_i7',\n",
              " '_i8',\n",
              " '_i9',\n",
              " '_ih',\n",
              " '_ii',\n",
              " '_iii',\n",
              " '_oh',\n",
              " 'exit',\n",
              " 'get_ipython',\n",
              " 'i',\n",
              " 'nums',\n",
              " 'oracion',\n",
              " 'quit',\n",
              " 'week_days']"
            ]
          },
          "metadata": {},
          "execution_count": 10
        }
      ]
    },
    {
      "cell_type": "markdown",
      "source": [
        "##Listas\n",
        "Conjunto ordenados de valores. Cada valores es llamado elemento o item, el cual puede ser idenficado con un INDEX.\n",
        "\n",
        "- Se almacenan entre corchetes angulares  [  ] y comas como separador ,\n",
        "\n",
        "- Podemos tener listas de tipo Integers, strings y floats.\n",
        "\n",
        "NOTA: En python iniciamos desde cero\n"
      ],
      "metadata": {
        "id": "2wnvRox-Mb68"
      }
    },
    {
      "cell_type": "code",
      "source": [
        "#crear una lista\n",
        "week_days = [\"Monday\", \"Tuesday\", \"Wednesday\", \"Thursday\", \"Friday\"]\n"
      ],
      "metadata": {
        "id": "57KdNkYTRclK"
      },
      "execution_count": null,
      "outputs": []
    },
    {
      "cell_type": "code",
      "source": [
        "# Crear una lista con Range - el cual me crea un rango de número hasta la posición que yole indique\n",
        "nums = range(6)\n",
        "\n",
        "for i in nums:\n",
        "  print(i)"
      ],
      "metadata": {
        "colab": {
          "base_uri": "https://localhost:8080/"
        },
        "collapsed": true,
        "id": "f6xKuJr-RsnF",
        "outputId": "633acbb2-bae6-4c9a-9c9d-b7bb7531374d"
      },
      "execution_count": null,
      "outputs": [
        {
          "output_type": "stream",
          "name": "stdout",
          "text": [
            "0\n",
            "1\n",
            "2\n",
            "3\n",
            "4\n",
            "5\n"
          ]
        }
      ]
    },
    {
      "cell_type": "code",
      "source": [
        "# Creating the series from a Python list\n",
        "#Lista []\n",
        "num_list = [1,2,3,4,5]\n",
        "\n",
        "pd.Series(num_list)"
      ],
      "metadata": {
        "id": "IJKkoXMXjEad",
        "colab": {
          "base_uri": "https://localhost:8080/",
          "height": 241
        },
        "outputId": "c809e50c-a289-43f6-d7e4-96c78f95918d",
        "collapsed": true
      },
      "execution_count": null,
      "outputs": [
        {
          "output_type": "execute_result",
          "data": {
            "text/plain": [
              "0    1\n",
              "1    2\n",
              "2    3\n",
              "3    4\n",
              "4    5\n",
              "dtype: int64"
            ],
            "text/html": [
              "<div>\n",
              "<style scoped>\n",
              "    .dataframe tbody tr th:only-of-type {\n",
              "        vertical-align: middle;\n",
              "    }\n",
              "\n",
              "    .dataframe tbody tr th {\n",
              "        vertical-align: top;\n",
              "    }\n",
              "\n",
              "    .dataframe thead th {\n",
              "        text-align: right;\n",
              "    }\n",
              "</style>\n",
              "<table border=\"1\" class=\"dataframe\">\n",
              "  <thead>\n",
              "    <tr style=\"text-align: right;\">\n",
              "      <th></th>\n",
              "      <th>0</th>\n",
              "    </tr>\n",
              "  </thead>\n",
              "  <tbody>\n",
              "    <tr>\n",
              "      <th>0</th>\n",
              "      <td>1</td>\n",
              "    </tr>\n",
              "    <tr>\n",
              "      <th>1</th>\n",
              "      <td>2</td>\n",
              "    </tr>\n",
              "    <tr>\n",
              "      <th>2</th>\n",
              "      <td>3</td>\n",
              "    </tr>\n",
              "    <tr>\n",
              "      <th>3</th>\n",
              "      <td>4</td>\n",
              "    </tr>\n",
              "    <tr>\n",
              "      <th>4</th>\n",
              "      <td>5</td>\n",
              "    </tr>\n",
              "  </tbody>\n",
              "</table>\n",
              "</div><br><label><b>dtype:</b> int64</label>"
            ]
          },
          "metadata": {},
          "execution_count": 17
        }
      ]
    },
    {
      "cell_type": "code",
      "source": [
        "num_list [3] #conocer el datos de x posición"
      ],
      "metadata": {
        "colab": {
          "base_uri": "https://localhost:8080/"
        },
        "id": "bMc5Z2kTMDVV",
        "outputId": "fe50d5a0-3f7d-4fe1-9879-54eaa76a7296"
      },
      "execution_count": null,
      "outputs": [
        {
          "output_type": "execute_result",
          "data": {
            "text/plain": [
              "4"
            ]
          },
          "metadata": {},
          "execution_count": 29
        }
      ]
    },
    {
      "cell_type": "markdown",
      "source": [
        "##Diccionarios\n",
        "\n",
        "a dictionary es una colección de llaves y valores.\n",
        "- Se almacenan entre Corchetes {  }\n",
        "-"
      ],
      "metadata": {
        "id": "6bIh-Y9XQh1J"
      }
    },
    {
      "cell_type": "code",
      "source": [
        "#Primera forma de crear un diccionario -con función\n",
        "#Aqui le damos a nuestra variable la estructura de diccionario con la función dict (), por ahora estara vacio.\n",
        "Codigo_paises = dict()\n",
        "print (Codigo_paises)"
      ],
      "metadata": {
        "colab": {
          "base_uri": "https://localhost:8080/"
        },
        "id": "QtYBE57X26e3",
        "outputId": "de6234d8-164b-4091-ce4b-55178a857f80"
      },
      "execution_count": null,
      "outputs": [
        {
          "output_type": "stream",
          "name": "stdout",
          "text": [
            "{}\n"
          ]
        }
      ]
    },
    {
      "cell_type": "code",
      "source": [
        "##Ahora agregamos valores - los agregamos con corchetes agulares la lalve y despues del igual el valor.\n",
        "Codigo_paises [\"Estados unidos\"] = 1\n",
        "print (Codigo_paises)"
      ],
      "metadata": {
        "colab": {
          "base_uri": "https://localhost:8080/"
        },
        "id": "MCatMxD-5Kw_",
        "outputId": "481fafcd-ce11-4018-bd2a-42f57070d673"
      },
      "execution_count": null,
      "outputs": [
        {
          "output_type": "stream",
          "name": "stdout",
          "text": [
            "{'Estados unidos': 1}\n"
          ]
        }
      ]
    },
    {
      "cell_type": "code",
      "source": [
        "#Segunda forma de crear un diccionario - de forma manual  con corchetes\n",
        "\n",
        "Codigo_paises = {\"Estados Unidos\":1, \"China\":86, \"Rwanda\":250, \"Germany\":49}\n",
        "print (Codigo_paises)\n",
        "Codigo_paises #tambien la podemos llamar sin el print"
      ],
      "metadata": {
        "colab": {
          "base_uri": "https://localhost:8080/"
        },
        "id": "b09n-rz65vjz",
        "outputId": "c11e09e7-e8dc-431a-b31a-40c1590dd4aa"
      },
      "execution_count": null,
      "outputs": [
        {
          "output_type": "stream",
          "name": "stdout",
          "text": [
            "{'Estados Unidos': 1, 'China': 86, 'Rwanda': 250, 'Germany': 49}\n"
          ]
        },
        {
          "output_type": "execute_result",
          "data": {
            "text/plain": [
              "{'Estados Unidos': 1, 'China': 86, 'Rwanda': 250, 'Germany': 49}"
            ]
          },
          "metadata": {},
          "execution_count": 7
        }
      ]
    },
    {
      "cell_type": "code",
      "source": [
        "#si quiero consultar solo las llaves usamos\n",
        "Codigo_paises.keys()"
      ],
      "metadata": {
        "colab": {
          "base_uri": "https://localhost:8080/"
        },
        "id": "XbseSf8J7EHz",
        "outputId": "4bcb9c7e-e472-471c-e7f5-039d65a2e4ee"
      },
      "execution_count": null,
      "outputs": [
        {
          "output_type": "execute_result",
          "data": {
            "text/plain": [
              "dict_keys(['Estados Unidos', 'China', 'Rwanda', 'Germany'])"
            ]
          },
          "metadata": {},
          "execution_count": 8
        }
      ]
    },
    {
      "cell_type": "code",
      "source": [
        "#si quiero consultar solo los valores usamos\n",
        "Codigo_paises.values()"
      ],
      "metadata": {
        "colab": {
          "base_uri": "https://localhost:8080/"
        },
        "id": "kqUZeDF87MWe",
        "outputId": "c0b2c9c6-30c2-4613-e206-ec311794b708"
      },
      "execution_count": null,
      "outputs": [
        {
          "output_type": "execute_result",
          "data": {
            "text/plain": [
              "dict_values([1, 86, 250, 49])"
            ]
          },
          "metadata": {},
          "execution_count": 9
        }
      ]
    },
    {
      "cell_type": "code",
      "source": [
        "#si quiere agregar datos a mi diccionario usamos\n",
        "Codigo_paises [\"Brasil\"] = 55\n",
        "print (Codigo_paises)"
      ],
      "metadata": {
        "colab": {
          "base_uri": "https://localhost:8080/"
        },
        "id": "NcgNBrj68RjC",
        "outputId": "f716cb65-4405-478d-eeab-7cb5516fb296"
      },
      "execution_count": null,
      "outputs": [
        {
          "output_type": "stream",
          "name": "stdout",
          "text": [
            "{'Estados Unidos': 1, 'China': 86, 'Rwanda': 250, 'Germany': 49, 'Brasil': 55}\n"
          ]
        }
      ]
    },
    {
      "cell_type": "code",
      "source": [
        "#si quiere consultar el valor de una llave\n",
        "Codigo_paises [\"China\"]"
      ],
      "metadata": {
        "colab": {
          "base_uri": "https://localhost:8080/"
        },
        "id": "oSJj_ZT58b6K",
        "outputId": "eb94586b-b33b-4a62-87da-783c60575da9"
      },
      "execution_count": null,
      "outputs": [
        {
          "output_type": "execute_result",
          "data": {
            "text/plain": [
              "86"
            ]
          },
          "metadata": {},
          "execution_count": 11
        }
      ]
    },
    {
      "cell_type": "code",
      "source": [
        "# puedo consultar si una llave existe en el diccionario\n",
        "\"Brasil\" in Codigo_paises"
      ],
      "metadata": {
        "colab": {
          "base_uri": "https://localhost:8080/"
        },
        "id": "SiCrUG_J8iuf",
        "outputId": "58dbad34-91e5-459a-8296-0b8d3820b91a"
      },
      "execution_count": null,
      "outputs": [
        {
          "output_type": "execute_result",
          "data": {
            "text/plain": [
              "True"
            ]
          },
          "metadata": {},
          "execution_count": 15
        }
      ]
    },
    {
      "cell_type": "code",
      "source": [
        "# puedo consultar si una llave existe en el diccionario\n",
        "\"Peru\" in Codigo_paises"
      ],
      "metadata": {
        "colab": {
          "base_uri": "https://localhost:8080/"
        },
        "id": "_22RYmAe8vdV",
        "outputId": "ee4aeb53-9260-4eed-8000-9c068702cb20"
      },
      "execution_count": null,
      "outputs": [
        {
          "output_type": "execute_result",
          "data": {
            "text/plain": [
              "False"
            ]
          },
          "metadata": {},
          "execution_count": 14
        }
      ]
    },
    {
      "cell_type": "code",
      "source": [
        "# Getting the keys and the values and items of the dictionary\n",
        "\n",
        "dict_keys = Codigo_paises.keys()\n",
        "dict_values = Codigo_paises.values()\n",
        "dict_items = Codigo_paises.items()\n",
        "\n",
        "print(f\"Keys: {dict_keys}\\n Values:{dict_values}\\n Items:{dict_items}\")"
      ],
      "metadata": {
        "colab": {
          "base_uri": "https://localhost:8080/"
        },
        "id": "ydTevcli9pL5",
        "outputId": "b1789714-ddf6-41bd-8d42-84d63047f399"
      },
      "execution_count": null,
      "outputs": [
        {
          "output_type": "stream",
          "name": "stdout",
          "text": [
            "Keys: dict_keys(['Estados Unidos', 'China', 'Rwanda', 'Germany', 'Brasil'])\n",
            " Values:dict_values([1, 86, 250, 49, 55])\n",
            " Items:dict_items([('Estados Unidos', 1), ('China', 86), ('Rwanda', 250), ('Germany', 49), ('Brasil', 55)])\n"
          ]
        }
      ]
    },
    {
      "cell_type": "code",
      "source": [
        "# Get the value of the Australia\n",
        "\n",
        "Codigo_paises.get('Estados Unidos')"
      ],
      "metadata": {
        "colab": {
          "base_uri": "https://localhost:8080/"
        },
        "id": "AlS_eHZB94rz",
        "outputId": "4a530be4-94fe-4c06-e4a3-d1eeb9af761f"
      },
      "execution_count": null,
      "outputs": [
        {
          "output_type": "execute_result",
          "data": {
            "text/plain": [
              "1"
            ]
          },
          "metadata": {},
          "execution_count": 21
        }
      ]
    },
    {
      "cell_type": "code",
      "source": [
        "#podemos crear diferentes lalves con diferentes valores, es decir, en una lista\n",
        "\n",
        "empleados = {\n",
        "    \"nombre\" :[ \"Andres\",\"Carlos\", \"Andrea\", \"Paula\", \"Camila\"],\n",
        "    \"cargo\" : [\"Gerente\",\"Adminsitrador\",\"TI\",\"GGHH\",\"Comercial\"],\n",
        "    \"edad\" : [45,34,28,56,32]\n",
        "}\n",
        "\n",
        "empleados"
      ],
      "metadata": {
        "colab": {
          "base_uri": "https://localhost:8080/"
        },
        "id": "K40ULdod-MfZ",
        "outputId": "933e4c2f-e0b8-4446-8c24-2288a3218f19"
      },
      "execution_count": null,
      "outputs": [
        {
          "output_type": "execute_result",
          "data": {
            "text/plain": [
              "{'nombre': ['Andres', 'Carlos', 'Andrea', 'Paula', 'Camila'],\n",
              " 'cargo': ['Gerente', 'Adminsitrador', 'TI', 'GGHH', 'Comercial'],\n",
              " 'edad': [45, 34, 28, 56, 32]}"
            ]
          },
          "metadata": {},
          "execution_count": 23
        }
      ]
    },
    {
      "cell_type": "markdown",
      "source": [
        "##Tuples\n",
        "Su principal característica es que una vez creada la lista NO se pueden hacer modificaciones -inmutables -\n",
        "- Se almacena entre  (  )  parentesis\n",
        "\n",
        "- Su indice o contador de elementos inicia desde la posición cero (0)"
      ],
      "metadata": {
        "id": "1tyK-s9WQluV"
      }
    },
    {
      "cell_type": "code",
      "source": [
        "tup = (1,2,3,4,5)\n",
        "tup [3]"
      ],
      "metadata": {
        "colab": {
          "base_uri": "https://localhost:8080/"
        },
        "id": "v4fBG3S9---N",
        "outputId": "c29b633c-33e0-4d16-f0d1-4abda322e775"
      },
      "execution_count": null,
      "outputs": [
        {
          "output_type": "execute_result",
          "data": {
            "text/plain": [
              "4"
            ]
          },
          "metadata": {},
          "execution_count": 26
        }
      ]
    },
    {
      "cell_type": "markdown",
      "source": [
        "##Sets /Conjuntos\n",
        "\n",
        "Conjuntos que pueden compartir una serie de elementos.\n",
        " - Puedo repetir elementos, sin embargo, al llamarlo el conjunto, me trae valores unicos.\n",
        " - Se almacenan entre corchetes {  }"
      ],
      "metadata": {
        "id": "v55wkdfoQnNR"
      }
    },
    {
      "cell_type": "code",
      "source": [
        "set_1 = {1,2,3,4,5,6}\n",
        "set_2 = {4,5,6,7,8,9}"
      ],
      "metadata": {
        "id": "y87T_YXWAaWk"
      },
      "execution_count": null,
      "outputs": []
    },
    {
      "cell_type": "markdown",
      "source": [
        "#FUNCIONES"
      ],
      "metadata": {
        "id": "Ul3mVBGWAgMA"
      }
    },
    {
      "cell_type": "markdown",
      "source": [
        "##Index\n",
        "\n",
        "Me indica la posición que ocupa un objecto en una LISTA.\n",
        "\n",
        "- nombre de la variable . index (menciono el objecto)"
      ],
      "metadata": {
        "id": "e1xZ2dJvTLz1"
      }
    },
    {
      "cell_type": "code",
      "source": [
        "nombres = [\"Nancy\",\"Jeraldinne\", \"Reina\", \"Galindo\"]\n",
        "nombres.index(\"Reina\")"
      ],
      "metadata": {
        "colab": {
          "base_uri": "https://localhost:8080/"
        },
        "id": "s9Fj9T6BS1kt",
        "outputId": "95665f27-8ba0-4558-f631-bb01d7830137"
      },
      "execution_count": null,
      "outputs": [
        {
          "output_type": "execute_result",
          "data": {
            "text/plain": [
              "2"
            ]
          },
          "metadata": {},
          "execution_count": 13
        }
      ]
    },
    {
      "cell_type": "markdown",
      "source": [
        "Si por el contrario tengo la posición y quiero conocer el objecto utilizamos corchetes.\n",
        "\n",
        " - nombre de la variable [# posición]\n",
        " - Si coloco el # positivo va de derecha a izquierda\n",
        " - Si coloco el # negativo va de izquierda a derecha"
      ],
      "metadata": {
        "id": "7d1rrbqhTyl0"
      }
    },
    {
      "cell_type": "code",
      "source": [
        "nombres [2]"
      ],
      "metadata": {
        "colab": {
          "base_uri": "https://localhost:8080/",
          "height": 35
        },
        "id": "5FNWyXeDTsPp",
        "outputId": "38d30ddf-3c9e-4a63-9bd1-3d391e4f50ac"
      },
      "execution_count": null,
      "outputs": [
        {
          "output_type": "execute_result",
          "data": {
            "text/plain": [
              "'Reina'"
            ],
            "application/vnd.google.colaboratory.intrinsic+json": {
              "type": "string"
            }
          },
          "metadata": {},
          "execution_count": 14
        }
      ]
    },
    {
      "cell_type": "markdown",
      "source": [
        "- nombre de la variable [:]\n",
        "al utilizar  :  puedo traer desde una posición A a una posición B"
      ],
      "metadata": {
        "id": "W4SHBXfSU1KN"
      }
    },
    {
      "cell_type": "code",
      "source": [
        "nombres [:] # ME TRAE TODOS LOS ELEMENTOS"
      ],
      "metadata": {
        "colab": {
          "base_uri": "https://localhost:8080/"
        },
        "id": "08uya_PYVdji",
        "outputId": "db7efd10-5996-4d4b-d347-33014498d4d9"
      },
      "execution_count": null,
      "outputs": [
        {
          "output_type": "execute_result",
          "data": {
            "text/plain": [
              "['Nancy', 'Jeraldinne', 'Reina', 'Galindo']"
            ]
          },
          "metadata": {},
          "execution_count": 19
        }
      ]
    },
    {
      "cell_type": "code",
      "source": [
        "nombres [0:2] # ME TRAE LA POSICIÓN 0 Y 1"
      ],
      "metadata": {
        "colab": {
          "base_uri": "https://localhost:8080/"
        },
        "id": "YebQVEr_V7O3",
        "outputId": "266b6f49-96bb-4536-d583-6bb861141722"
      },
      "execution_count": null,
      "outputs": [
        {
          "output_type": "execute_result",
          "data": {
            "text/plain": [
              "['Nancy', 'Jeraldinne']"
            ]
          },
          "metadata": {},
          "execution_count": 20
        }
      ]
    },
    {
      "cell_type": "code",
      "source": [
        "nombres [:3] # ME TRAE LA POSICIÓN DESDE  0 A LA 2"
      ],
      "metadata": {
        "colab": {
          "base_uri": "https://localhost:8080/"
        },
        "id": "CswroemNWE6i",
        "outputId": "d8394cc0-44d0-42f9-857f-e4e7d3ff3a30"
      },
      "execution_count": null,
      "outputs": [
        {
          "output_type": "execute_result",
          "data": {
            "text/plain": [
              "['Nancy', 'Jeraldinne', 'Reina']"
            ]
          },
          "metadata": {},
          "execution_count": 22
        }
      ]
    },
    {
      "cell_type": "markdown",
      "source": [
        "CAMBIAR ELEMENTOS DE UNA LISTA"
      ],
      "metadata": {
        "id": "dPfAS4E8WX0E"
      }
    },
    {
      "cell_type": "code",
      "source": [
        "nombres [2] = \"Gonzalez\"\n",
        "print(nombres)"
      ],
      "metadata": {
        "colab": {
          "base_uri": "https://localhost:8080/"
        },
        "id": "Hvsig1tIWca7",
        "outputId": "06cf8235-5629-4445-8d47-46faa6c9aaf7"
      },
      "execution_count": null,
      "outputs": [
        {
          "output_type": "stream",
          "name": "stdout",
          "text": [
            "['Nancy', 'Daniela', 'Gonzalez']\n"
          ]
        }
      ]
    },
    {
      "cell_type": "markdown",
      "source": [
        "Rangos\n",
        "- 0:2 indica un rango que empieza en el índice 0 y termina antes del índice 2.\n",
        "- Por lo tanto, afecta los elementos en las posiciones 0 y 1.\n"
      ],
      "metadata": {
        "id": "SM4doApCYT92"
      }
    },
    {
      "cell_type": "code",
      "source": [
        "nombres [0:2] = [\"Daniel\",\"Cespedes\"]\n",
        "print(nombres)"
      ],
      "metadata": {
        "colab": {
          "base_uri": "https://localhost:8080/"
        },
        "id": "2DMCm2-MWz_4",
        "outputId": "558a0826-0907-4f78-e001-920a4bd924af"
      },
      "execution_count": null,
      "outputs": [
        {
          "output_type": "stream",
          "name": "stdout",
          "text": [
            "['Daniel', 'Cespedes', 'Pardo']\n"
          ]
        }
      ]
    },
    {
      "cell_type": "markdown",
      "source": [
        "##SORT - Ordena ascendente"
      ],
      "metadata": {
        "id": "7jqVX4E6ZHQb"
      }
    },
    {
      "cell_type": "code",
      "source": [],
      "metadata": {
        "id": "CMUJYDcRZQbd"
      },
      "execution_count": null,
      "outputs": []
    },
    {
      "cell_type": "markdown",
      "source": [
        "## REVERSE -  Ordenamiento de Mayor a menor"
      ],
      "metadata": {
        "id": "HpNdb-q7bOje"
      }
    }
  ]
}